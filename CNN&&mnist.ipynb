{
  "nbformat": 4,
  "nbformat_minor": 0,
  "metadata": {
    "colab": {
      "name": "CNN&&mnist",
      "version": "0.3.2",
      "provenance": [],
      "collapsed_sections": []
    },
    "kernelspec": {
      "name": "python3",
      "display_name": "Python 3"
    },
    "accelerator": "GPU"
  },
  "cells": [
    {
      "metadata": {
        "id": "l468TKDDkVki",
        "colab_type": "code",
        "colab": {}
      },
      "cell_type": "code",
      "source": [
        "from tensorflow.examples.tutorials.mnist import input_data\n",
        "import matplotlib.pyplot as plt\n",
        "import tensorflow as tf"
      ],
      "execution_count": 0,
      "outputs": []
    },
    {
      "metadata": {
        "id": "STTKfZxJabLt",
        "colab_type": "code",
        "outputId": "3d716788-8bb2-4ff9-e261-380f1a0f6d1d",
        "colab": {
          "base_uri": "https://localhost:8080/",
          "height": 89
        }
      },
      "cell_type": "code",
      "source": [
        "#获取数据\n",
        "mnist = input_data.read_data_sets(\"/temp/data\",one_hot=True)"
      ],
      "execution_count": 146,
      "outputs": [
        {
          "output_type": "stream",
          "text": [
            "Extracting /temp/data/train-images-idx3-ubyte.gz\n",
            "Extracting /temp/data/train-labels-idx1-ubyte.gz\n",
            "Extracting /temp/data/t10k-images-idx3-ubyte.gz\n",
            "Extracting /temp/data/t10k-labels-idx1-ubyte.gz\n"
          ],
          "name": "stdout"
        }
      ]
    },
    {
      "metadata": {
        "id": "D4P6WyZVbiiO",
        "colab_type": "code",
        "outputId": "61db53e7-796b-42cd-f40a-b41df43de280",
        "colab": {
          "base_uri": "https://localhost:8080/",
          "height": 269
        }
      },
      "cell_type": "code",
      "source": [
        "#输出图片2\n",
        "mnist_two = mnist.train.images[2,:].reshape(28,28)\n",
        "plt.imshow(mnist_two)\n",
        "plt.show()"
      ],
      "execution_count": 147,
      "outputs": [
        {
          "output_type": "display_data",
          "data": {
            "image/png": "[encoded data removed]",
            "text/plain": [
              "<Figure size 432x288 with 1 Axes>"
            ]
          },
          "metadata": {
            "tags": []
          }
        }
      ]
    },
    {
      "metadata": {
        "id": "2bXQVrzE4tyq",
        "colab_type": "text"
      },
      "cell_type": "markdown",
      "source": [
        "在开始运行前，请先搞懂CNN\n",
        "[CNN工作原理](https://www.evernote.com/shard/s725/sh/8278bf2c-1942-43f2-a77c-f5f841c38a0b/501b1ab5bda2032253c93cbc11f1f55e)"
      ]
    },
    {
      "metadata": {
        "id": "jK5HK-PqboB9",
        "colab_type": "code",
        "colab": {}
      },
      "cell_type": "code",
      "source": [
        "#池化操作(w是一个CNN的过滤器),填充选0填充\n",
        "#conv2d 的参数 x，是一个 4 维张量，每一个维度分别代表 batch,in_height,in_height,in_channels\n",
        "#conv2d的参数filter [filter_height, filter_width, in_channels,out_channels]\n",
        "def conv2d(x,w,b,strides=1):\n",
        "  con = tf.nn.conv2d(x,w,[1,strides,strides,1],padding='SAME')\n",
        "  con = tf.nn.bias_add(con,b)\n",
        "  #选择relu激活\n",
        "  return tf.nn.relu(con)\n",
        "\n",
        "#池化层封装\n",
        "#tf.nn.max_pool(x, ksize, strides ,padding)\n",
        "#ksize是卷积核的大小，是一个四维张量\n",
        "def maxpool(x,k=2):\n",
        "  return tf.nn.max_pool(x,[1,k,k,1],[1,k,k,1],padding='SAME')"
      ],
      "execution_count": 0,
      "outputs": []
    },
    {
      "metadata": {
        "id": "lIP8qAl-btiz",
        "colab_type": "text"
      },
      "cell_type": "markdown",
      "source": [
        "[tf.nn.conv2d()函数解释](https://www.evernote.com/shard/s725/sh/6dbbbba2-bf44-4386-92c1-7821b960a928/fc97045eda5d36c70968e50b13c7367c)\n",
        "\n",
        "\n"
      ]
    },
    {
      "metadata": {
        "id": "2iC_DUTcgf-b",
        "colab_type": "code",
        "colab": {}
      },
      "cell_type": "code",
      "source": [
        "#超参数设置\n",
        "#训练参数\n",
        "learning_rate = 0.02\n",
        "batch_size = 128\n",
        "steps = 200\n",
        "show_steps = 10\n",
        "#每个批次的大小\n",
        "batch_size =100\n",
        "num_batch = mnist.train.num_examples // batch_size\n",
        "\n",
        "#网络参数\n",
        "num_inputs =784\n",
        "num_classes = 10\n",
        "#神经元保留率\n",
        "dropout = 0.75"
      ],
      "execution_count": 0,
      "outputs": []
    },
    {
      "metadata": {
        "id": "5YnbUTUU09cB",
        "colab_type": "text"
      },
      "cell_type": "markdown",
      "source": [
        "![tensorflow网络结构](http://www.tensorflownews.com/wp-content/uploads/2018/03/5-14.png)"
      ]
    },
    {
      "metadata": {
        "id": "9QCQ0ChalH5x",
        "colab_type": "code",
        "colab": {}
      },
      "cell_type": "code",
      "source": [
        "def conv_net(x,weights,biases,dropout):\n",
        "  x = tf.reshape(x,shape=[-1,28,28,1])\n",
        "  \n",
        "  #每次卷积都加了relu层！！！！\n",
        "  #卷积后大小：（rawH-filterH+1）=ConvH\n",
        "  #池化后大小 rawH*rawH/(ksize*ksize)\n",
        "  #输出通道类似神经元\n",
        "  \n",
        "  #第一层卷积\n",
        "  #此层卷积核利用[5,5,1,32] 利用填充后变为32*32 |卷积后大小：（32-5+1）=28 | 卷积之后变为28*28 输出通道数32\n",
        "  con1 = conv2d(x,weights['wc1'],biases['bc1'])\n",
        "  #第一层池化\n",
        "   #经过池化核2*2，池化之后为14*14 输出通道数32\n",
        "  con1 = maxpool(con1,k=2)\n",
        "  \n",
        "  #第二层卷积\n",
        "  #此层卷积核利用[5,5,32,64] 利用填充后变为18*18 |卷积后大小：（18-5+1）=14 | 卷积之后变为14*14 输出通道数64\n",
        "  con2 = conv2d(con1,weights['wc2'],biases['bc2'])\n",
        "  #第二层池化\n",
        "  #经过池化核2*2，池化之后为7*7 输出通道数64\n",
        "  con2  = maxpool(con2,k=2)\n",
        "  \n",
        "  #全连接层\n",
        "  #把fc1拉成一维张量\n",
        "  fc1 = tf.reshape(con2,shape=[-1,weights['wd1'].get_shape().as_list()[0]])\n",
        "  #使fc1通过weight[7*7*64,1024] 变为1024个神经元\n",
        "  fc1 = tf.add(tf.matmul(fc1,weights['wd1']),biases['bd1'])\n",
        "  fc1 = tf.nn.relu(fc1)\n",
        "  #丢弃\n",
        "  fc1 = tf.nn.dropout(fc1,dropout)\n",
        "  \n",
        "  #输出层\n",
        "  #使输出为10个神经元\n",
        "  out = tf.add(tf.matmul(fc1, weights['out']), biases['out'])\n",
        "  return out"
      ],
      "execution_count": 0,
      "outputs": []
    },
    {
      "metadata": {
        "id": "1JdU-rWBt9Hw",
        "colab_type": "code",
        "colab": {}
      },
      "cell_type": "code",
      "source": [
        "#初始化函数\n",
        "def weight_variable(shape):\n",
        "  #初始化权值参数时，使用了tf.truncated_normal函数，该函数的原型是 tf.truncated_normal(shape, mean=0.0, stddev=1.0, dtype=tf.float32, seed=None, name=None)。\n",
        "  #函数的输出是一个tensor，其形状是由输入参数shape进行定义，tensor中的值满足截断正态分布，\n",
        "  #值的数据类型默认是tf.float32。weight_variable([5, 5, 1, 32])则返回5*5*1*32的tensor变量。\n",
        "  initial = tf.truncated_normal(shape, stddev=0.1)\n",
        "  return tf.Variable(initial)\n",
        "def bias_variable(shape):\n",
        "  initial = tf.constant(0.1, shape=shape)\n",
        "  return tf.Variable(initial)\n",
        "\n",
        "\n",
        "#tf的变量添加\n",
        "X = tf.placeholder(tf.float32,[None,num_inputs])\n",
        "Y = tf.placeholder(tf.float32,[None,num_classes])\n",
        "\n",
        "\n",
        "\n",
        "\n",
        "weights = {\n",
        "'wc1': weight_variable([5,5,1,32]),\n",
        "'wc2': weight_variable([5,5,32,64]),\n",
        "'wd1': weight_variable([7*7*64,1024]),\n",
        "'out': weight_variable([1024, 10])\n",
        "}\n",
        "biases = {\n",
        "'bc1': bias_variable([32]),\n",
        "'bc2': bias_variable([64]),\n",
        "'bd1': bias_variable([1024]),\n",
        "'out': bias_variable([10])\n",
        "}\n"
      ],
      "execution_count": 0,
      "outputs": []
    },
    {
      "metadata": {
        "id": "BtsgTgDTd4ek",
        "colab_type": "code",
        "colab": {}
      },
      "cell_type": "code",
      "source": [
        "#效果评估\n",
        "\n",
        "#softmax10分类\n",
        "out = conv_net(X,weights,biases,dropout)\n",
        "prediction = tf.nn.softmax(out)\n",
        "\n",
        "#构造训练模型\n",
        "loss = tf.reduce_mean(tf.nn.softmax_cross_entropy_with_logits(\n",
        "    logits=prediction, labels=Y))\n",
        "train = tf.train.AdamOptimizer(1e-4).minimize(loss)\n",
        "\n",
        "#计算准确率\n",
        "pred_acc = tf.equal(tf.argmax(prediction,1),tf.argmax(Y,1))\n",
        "accuracy = tf.reduce_mean(tf.cast(pred_acc,tf.float32))"
      ],
      "execution_count": 0,
      "outputs": []
    },
    {
      "metadata": {
        "id": "QKjmCp97o5Uh",
        "colab_type": "code",
        "colab": {
          "base_uri": "https://localhost:8080/",
          "height": 395
        },
        "outputId": "4d54ee3f-2dd5-41c3-f026-91cdaf2afa3a"
      },
      "cell_type": "code",
      "source": [
        "#训练\n",
        "with tf.Session() as sess:\n",
        "  sess.run(tf.global_variables_initializer())\n",
        "  for step in range(steps+1):\n",
        "    for batch in range(num_batch):\n",
        "      batch_x, batch_y = mnist.train.next_batch(batch_size)\n",
        "      sess.run(train,feed_dict={X:batch_x,Y:batch_y})\n",
        "    if step % show_steps ==0:\n",
        "      acc = sess.run(accuracy,feed_dict={X:mnist.test.images,Y:mnist.test.labels})\n",
        "      print(str(step)+\":accuracy=%.3f\" %acc)"
      ],
      "execution_count": 153,
      "outputs": [
        {
          "output_type": "stream",
          "text": [
            "0:accuracy=0.852\n",
            "10:accuracy=0.984\n",
            "20:accuracy=0.990\n",
            "30:accuracy=0.990\n",
            "40:accuracy=0.991\n",
            "50:accuracy=0.991\n",
            "60:accuracy=0.992\n",
            "70:accuracy=0.992\n",
            "80:accuracy=0.993\n",
            "90:accuracy=0.991\n",
            "100:accuracy=0.993\n",
            "110:accuracy=0.992\n",
            "120:accuracy=0.992\n",
            "130:accuracy=0.992\n",
            "140:accuracy=0.992\n",
            "150:accuracy=0.992\n",
            "160:accuracy=0.993\n",
            "170:accuracy=0.991\n",
            "180:accuracy=0.993\n",
            "190:accuracy=0.990\n",
            "200:accuracy=0.992\n"
          ],
          "name": "stdout"
        }
      ]
    }
  ]
}